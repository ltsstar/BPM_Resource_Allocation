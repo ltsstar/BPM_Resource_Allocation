{
 "cells": [
  {
   "cell_type": "code",
   "execution_count": 1,
   "id": "b5ce970e",
   "metadata": {},
   "outputs": [],
   "source": [
    "from simulator.simulator import Simulator\n",
    "from planner import Planner\n",
    "from policy import RandomPolicy\n",
    "from task_execution_time import ExecutionTimeModel"
   ]
  },
  {
   "cell_type": "code",
   "execution_count": 2,
   "id": "0ffd8ee9",
   "metadata": {},
   "outputs": [
    {
     "ename": "TypeError",
     "evalue": "RandomPolicy.allocate() missing 3 required positional arguments: 'available_resources', 'resource_pool', and 'trd'",
     "output_type": "error",
     "traceback": [
      "\u001b[0;31m---------------------------------------------------------------------------\u001b[0m",
      "\u001b[0;31mTypeError\u001b[0m                                 Traceback (most recent call last)",
      "Cell \u001b[0;32mIn[2], line 8\u001b[0m\n\u001b[1;32m      5\u001b[0m my_planner \u001b[38;5;241m=\u001b[39m Planner(prediction_model, warm_up_policy, warm_up_time, policy)\n\u001b[1;32m      7\u001b[0m simulator \u001b[38;5;241m=\u001b[39m Simulator(my_planner)\n\u001b[0;32m----> 8\u001b[0m result \u001b[38;5;241m=\u001b[39m \u001b[43msimulator\u001b[49m\u001b[38;5;241;43m.\u001b[39;49m\u001b[43mrun\u001b[49m\u001b[43m(\u001b[49m\u001b[38;5;241;43m24\u001b[39;49m\u001b[38;5;241;43m*\u001b[39;49m\u001b[38;5;241;43m365\u001b[39;49m\u001b[43m)\u001b[49m\n\u001b[1;32m      9\u001b[0m \u001b[38;5;28mprint\u001b[39m(result)\n",
      "File \u001b[0;32m~/Documents/BPO_Batching/simulator/simulator.py:171\u001b[0m, in \u001b[0;36mSimulator.run\u001b[0;34m(self, running_time)\u001b[0m\n\u001b[1;32m    169\u001b[0m \u001b[38;5;28;01melif\u001b[39;00m event\u001b[38;5;241m.\u001b[39mevent_type \u001b[38;5;241m==\u001b[39m EventType\u001b[38;5;241m.\u001b[39mPLAN_TASKS:\n\u001b[1;32m    170\u001b[0m \t\u001b[38;5;28;01mif\u001b[39;00m \u001b[38;5;28mlen\u001b[39m(\u001b[38;5;28mself\u001b[39m\u001b[38;5;241m.\u001b[39munassigned_tasks) \u001b[38;5;241m>\u001b[39m \u001b[38;5;241m0\u001b[39m \u001b[38;5;129;01mand\u001b[39;00m \u001b[38;5;28mlen\u001b[39m(\u001b[38;5;28mself\u001b[39m\u001b[38;5;241m.\u001b[39mavailable_resources) \u001b[38;5;241m>\u001b[39m \u001b[38;5;241m0\u001b[39m:\n\u001b[0;32m--> 171\u001b[0m \t\tassignments \u001b[38;5;241m=\u001b[39m \u001b[38;5;28;43mself\u001b[39;49m\u001b[38;5;241;43m.\u001b[39;49m\u001b[43mplanner\u001b[49m\u001b[38;5;241;43m.\u001b[39;49m\u001b[43mplan\u001b[49m\u001b[43m(\u001b[49m\u001b[38;5;28;43mself\u001b[39;49m\u001b[38;5;241;43m.\u001b[39;49m\u001b[43mavailable_resources\u001b[49m\u001b[38;5;241;43m.\u001b[39;49m\u001b[43mcopy\u001b[49m\u001b[43m(\u001b[49m\u001b[43m)\u001b[49m\u001b[43m,\u001b[49m\u001b[43m \u001b[49m\u001b[38;5;28;43mlist\u001b[39;49m\u001b[43m(\u001b[49m\u001b[38;5;28;43mself\u001b[39;49m\u001b[38;5;241;43m.\u001b[39;49m\u001b[43munassigned_tasks\u001b[49m\u001b[38;5;241;43m.\u001b[39;49m\u001b[43mvalues\u001b[49m\u001b[43m(\u001b[49m\u001b[43m)\u001b[49m\u001b[43m)\u001b[49m\u001b[43m,\u001b[49m\u001b[43m \u001b[49m\u001b[38;5;28;43mself\u001b[39;49m\u001b[38;5;241;43m.\u001b[39;49m\u001b[43mproblem_resource_pool\u001b[49m\u001b[43m)\u001b[49m\n\u001b[1;32m    172\u001b[0m \t\tmoment \u001b[38;5;241m=\u001b[39m \u001b[38;5;28mself\u001b[39m\u001b[38;5;241m.\u001b[39mnow\n\u001b[1;32m    173\u001b[0m \t\t\u001b[38;5;28;01mfor\u001b[39;00m (task, resource) \u001b[38;5;129;01min\u001b[39;00m assignments:\n",
      "File \u001b[0;32m~/Documents/BPO_Batching/planner.py:42\u001b[0m, in \u001b[0;36mPlanner.plan\u001b[0;34m(self, available_resources, unassigned_tasks, resource_pool)\u001b[0m\n\u001b[1;32m     36\u001b[0m     trds \u001b[38;5;241m=\u001b[39m \u001b[38;5;28mself\u001b[39m\u001b[38;5;241m.\u001b[39mpredictor\u001b[38;5;241m.\u001b[39mpredict(\u001b[38;5;28mself\u001b[39m\u001b[38;5;241m.\u001b[39mworking_resources,\n\u001b[1;32m     37\u001b[0m                                   available_resources,\n\u001b[1;32m     38\u001b[0m                                   unassigned_tasks,\n\u001b[1;32m     39\u001b[0m                                   resource_pool,\n\u001b[1;32m     40\u001b[0m                                   \u001b[38;5;28mself\u001b[39m\u001b[38;5;241m.\u001b[39mtask_type_occurrences)\n\u001b[1;32m     41\u001b[0m     \u001b[38;5;66;03m# Make allocation decision\u001b[39;00m\n\u001b[0;32m---> 42\u001b[0m     assignments \u001b[38;5;241m=\u001b[39m \u001b[38;5;28;43mself\u001b[39;49m\u001b[38;5;241;43m.\u001b[39;49m\u001b[43mpolicy\u001b[49m\u001b[38;5;241;43m.\u001b[39;49m\u001b[43mallocate\u001b[49m\u001b[43m(\u001b[49m\u001b[43mtrds\u001b[49m\u001b[43m)\u001b[49m\n\u001b[1;32m     43\u001b[0m \u001b[38;5;28;01mreturn\u001b[39;00m assignments\n",
      "\u001b[0;31mTypeError\u001b[0m: RandomPolicy.allocate() missing 3 required positional arguments: 'available_resources', 'resource_pool', and 'trd'"
     ]
    }
   ],
   "source": [
    "prediction_model = ExecutionTimeModel()\n",
    "warm_up_policy = RandomPolicy()\n",
    "warm_up_time =  1000000\n",
    "policy = RandomPolicy()\n",
    "my_planner = Planner(prediction_model, warm_up_policy, warm_up_time, policy)\n",
    "\n",
    "simulator = Simulator(my_planner)\n",
    "result = simulator.run(24*365)\n",
    "print(result)"
   ]
  }
 ],
 "metadata": {
  "kernelspec": {
   "display_name": "Python 3 (ipykernel)",
   "language": "python",
   "name": "python3"
  },
  "language_info": {
   "codemirror_mode": {
    "name": "ipython",
    "version": 3
   },
   "file_extension": ".py",
   "mimetype": "text/x-python",
   "name": "python",
   "nbconvert_exporter": "python",
   "pygments_lexer": "ipython3",
   "version": "3.10.12"
  }
 },
 "nbformat": 4,
 "nbformat_minor": 5
}

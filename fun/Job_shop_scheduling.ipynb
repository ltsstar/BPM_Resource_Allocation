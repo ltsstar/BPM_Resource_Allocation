{
 "cells": [
  {
   "cell_type": "code",
   "execution_count": 1,
   "id": "d73c062f-f9c3-4c19-9a90-d18233897b2d",
   "metadata": {},
   "outputs": [],
   "source": [
    "\"\"\"Minimal jobshop example.\"\"\"\n",
    "import collections\n",
    "from ortools.sat.python import cp_model"
   ]
  },
  {
   "cell_type": "code",
   "execution_count": 2,
   "id": "0de23039-2221-424c-9ca8-c3420c6ced78",
   "metadata": {},
   "outputs": [],
   "source": [
    "# Data.\n",
    "task_data = [  # (task_id, machine_id, processing_time)\n",
    "    (0, 0, 3), (0, 1, 2), (0, 2, 2),  # Task0\n",
    "    (1, 0, 2), (1, 1, 5), (1, 2, 2),  # Task1\n",
    "    (2, 0, 6), (2, 1, 1),  # Task2\n",
    "]"
   ]
  },
  {
   "cell_type": "markdown",
   "id": "41ab661d-e5f4-4da8-b491-9b6058442d5b",
   "metadata": {},
   "source": [
    "# Encode job data"
   ]
  },
  {
   "cell_type": "code",
   "execution_count": 3,
   "id": "82ac2d81-9c90-44f7-9fea-200faf7c4d2a",
   "metadata": {},
   "outputs": [
    {
     "ename": "NameError",
     "evalue": "name 'all_machines' is not defined",
     "output_type": "error",
     "traceback": [
      "\u001b[0;31m---------------------------------------------------------------------------\u001b[0m",
      "\u001b[0;31mNameError\u001b[0m                                 Traceback (most recent call last)",
      "Cell \u001b[0;32mIn[3], line 3\u001b[0m\n\u001b[1;32m      1\u001b[0m \u001b[38;5;66;03m# Computes horizon dynamically as the sum of all durations.\u001b[39;00m\n\u001b[0;32m----> 3\u001b[0m \u001b[38;5;28mprint\u001b[39m(\u001b[38;5;124m'\u001b[39m\u001b[38;5;124mmachines:\u001b[39m\u001b[38;5;124m'\u001b[39m, \u001b[38;5;28mlist\u001b[39m(\u001b[43mall_machines\u001b[49m))\n\u001b[1;32m      4\u001b[0m \u001b[38;5;28mprint\u001b[39m(\u001b[38;5;124m'\u001b[39m\u001b[38;5;124mhorizon:\u001b[39m\u001b[38;5;124m'\u001b[39m, horizon)\n",
      "\u001b[0;31mNameError\u001b[0m: name 'all_machines' is not defined"
     ]
    }
   ],
   "source": []
  },
  {
   "cell_type": "markdown",
   "id": "b209ad49-f631-4e42-8923-a23e7d279c57",
   "metadata": {},
   "source": [
    "# Create CP model"
   ]
  },
  {
   "cell_type": "code",
   "execution_count": 11,
   "id": "6a562519-b89e-4d50-a199-c90fdeadb289",
   "metadata": {},
   "outputs": [
    {
     "ename": "NameError",
     "evalue": "name 'jobs_data' is not defined",
     "output_type": "error",
     "traceback": [
      "\u001b[0;31m---------------------------------------------------------------------------\u001b[0m",
      "\u001b[0;31mNameError\u001b[0m                                 Traceback (most recent call last)",
      "Cell \u001b[0;32mIn[11], line 65\u001b[0m\n\u001b[1;32m     61\u001b[0m         status \u001b[38;5;241m=\u001b[39m solver\u001b[38;5;241m.\u001b[39mSolve(\u001b[38;5;28mself\u001b[39m\u001b[38;5;241m.\u001b[39mmodel)\n\u001b[1;32m     62\u001b[0m         \u001b[38;5;28;01mreturn\u001b[39;00m (solver, status)\n\u001b[0;32m---> 65\u001b[0m model \u001b[38;5;241m=\u001b[39m \u001b[43mUnrelatedMachinesScheduling\u001b[49m\u001b[43m(\u001b[49m\u001b[43mtask_data\u001b[49m\u001b[43m)\u001b[49m\n",
      "Cell \u001b[0;32mIn[11], line 8\u001b[0m, in \u001b[0;36mUnrelatedMachinesScheduling.__init__\u001b[0;34m(self, task_data)\u001b[0m\n\u001b[1;32m      6\u001b[0m \u001b[38;5;28mself\u001b[39m\u001b[38;5;241m.\u001b[39m__define_model()\n\u001b[1;32m      7\u001b[0m \u001b[38;5;28mself\u001b[39m\u001b[38;5;241m.\u001b[39m__define_constraints()\n\u001b[0;32m----> 8\u001b[0m \u001b[38;5;28;43mself\u001b[39;49m\u001b[38;5;241;43m.\u001b[39;49m\u001b[43m__define_objective\u001b[49m\u001b[43m(\u001b[49m\u001b[43m)\u001b[49m\n",
      "Cell \u001b[0;32mIn[11], line 56\u001b[0m, in \u001b[0;36mUnrelatedMachinesScheduling.__define_objective\u001b[0;34m(self)\u001b[0m\n\u001b[1;32m     51\u001b[0m \u001b[38;5;28;01mdef\u001b[39;00m \u001b[38;5;21m__define_objective\u001b[39m(\u001b[38;5;28mself\u001b[39m):\n\u001b[1;32m     52\u001b[0m     \u001b[38;5;66;03m# Makespan objective.\u001b[39;00m\n\u001b[1;32m     53\u001b[0m     obj_var \u001b[38;5;241m=\u001b[39m \u001b[38;5;28mself\u001b[39m\u001b[38;5;241m.\u001b[39mmodel\u001b[38;5;241m.\u001b[39mNewIntVar(\u001b[38;5;241m0\u001b[39m, \u001b[38;5;28mself\u001b[39m\u001b[38;5;241m.\u001b[39mhorizon, \u001b[38;5;124m\"\u001b[39m\u001b[38;5;124mmakespan\u001b[39m\u001b[38;5;124m\"\u001b[39m)\n\u001b[1;32m     54\u001b[0m     \u001b[38;5;28mself\u001b[39m\u001b[38;5;241m.\u001b[39mmodel\u001b[38;5;241m.\u001b[39mAddMaxEquality(\n\u001b[1;32m     55\u001b[0m         obj_var,\n\u001b[0;32m---> 56\u001b[0m         [\u001b[38;5;28mself\u001b[39m\u001b[38;5;241m.\u001b[39mall_tasks[job_id, \u001b[38;5;28mlen\u001b[39m(job) \u001b[38;5;241m-\u001b[39m \u001b[38;5;241m1\u001b[39m]\u001b[38;5;241m.\u001b[39mend \u001b[38;5;28;01mfor\u001b[39;00m job_id, job \u001b[38;5;129;01min\u001b[39;00m \u001b[38;5;28menumerate\u001b[39m(\u001b[43mjobs_data\u001b[49m)],\n\u001b[1;32m     57\u001b[0m     )\n\u001b[1;32m     58\u001b[0m     \u001b[38;5;28mself\u001b[39m\u001b[38;5;241m.\u001b[39mmodel\u001b[38;5;241m.\u001b[39mMinimize(obj_var)\n",
      "\u001b[0;31mNameError\u001b[0m: name 'jobs_data' is not defined"
     ]
    }
   ],
   "source": [
    "# Create the model.\n",
    "\n",
    "class UnrelatedMachinesScheduling:\n",
    "    def __init__(self, task_data):\n",
    "        self.task_data = task_data\n",
    "        self.__define_model()\n",
    "        self.__define_constraints()\n",
    "        self.__define_objective()\n",
    "\n",
    "    def __define_model(self):\n",
    "        self.model = cp_model.CpModel()\n",
    "        # Named tuple to store information about created variables.\n",
    "        self.task_type = collections.namedtuple(\"task_type\", \"start end interval\")\n",
    "        # Named tuple to manipulate solution information.\n",
    "        self.assigned_task_type = collections.namedtuple(\n",
    "            \"assigned_task_type\", \"start job index duration\"\n",
    "        )\n",
    "        # Creates job intervals and add to the corresponding machine lists.\n",
    "        self.all_tasks = {}\n",
    "        self.task_assigned_machines = collections.defaultdict(list)\n",
    "        self.machine_to_intervals = collections.defaultdict(list)\n",
    "        self.horizon = sum(task[2] for task in self.task_data)\n",
    "    \n",
    "    \n",
    "    def __define_constraints(self):\n",
    "        #Define decision variable\n",
    "        for task, machine, processing_time in self.task_data:\n",
    "            suffix = f\"_{task}_{machine}\"\n",
    "            assigned_var = self.model.NewIntVar(0, 1, 'assigned' + suffix)\n",
    "            self.task_assigned_machines[task].append(assigned_var)\n",
    "            interval_var = self.model.NewIntervalVar(\n",
    "                start    = self.model.NewIntVar(0, self.horizon, 'start' + suffix),\n",
    "                end      = self.model.NewIntVar(0, self.horizon, 'end' + suffix),\n",
    "                size = processing_time,\n",
    "                name = 'interval'+suffix\n",
    "            )\n",
    "            self.machine_to_intervals[machine].append(interval_var)\n",
    "\n",
    "        #Constraint 1: No machine may work on more than one task simultaneously\n",
    "        machines_count = 1 + max(task[1] for task in self.task_data)\n",
    "        all_machines = range(machines_count)\n",
    "        for machine in all_machines:\n",
    "            self.model.AddNoOverlap(self.machine_to_intervals[machine])\n",
    "\n",
    "        #Constraint 2: All tasks must be assigned to exactly one machine\n",
    "        tasks_count = 1+ max(task[0] for task in self.task_data)\n",
    "        all_tasks = range(tasks_count)\n",
    "        for task in all_tasks:\n",
    "            self.model.Add(cp_model.LinearExpr.Sum(self.task_assigned_machines[task]) == 1)\n",
    "        \n",
    "    def __define_objective(self):\n",
    "        # Makespan objective.\n",
    "        obj_var = self.model.NewIntVar(0, self.horizon, \"makespan\")\n",
    "        self.model.AddMaxEquality(\n",
    "            obj_var,\n",
    "            [self.all_tasks[job_id, len(job) - 1].end for job_id, job in enumerate(jobs_data)],\n",
    "        )\n",
    "        self.model.Minimize(obj_var)\n",
    "\n",
    "    def solve(self, solver=cp_model.CpSolver()):\n",
    "        status = solver.Solve(self.model)\n",
    "        return (solver, status)\n",
    "\n",
    "\n",
    "model = UnrelatedMachinesScheduling(task_data)"
   ]
  },
  {
   "cell_type": "code",
   "execution_count": null,
   "id": "deef750c-7051-4518-a06d-3b262a973429",
   "metadata": {},
   "outputs": [],
   "source": [
    "# Creates the solver and solve.\n",
    "solver, status = model.solve()\n",
    "\n",
    "print('feasible:', status == cp_model.FEASIBLE, ', optimal:', status == cp_model.OPTIMAL)"
   ]
  },
  {
   "cell_type": "code",
   "execution_count": null,
   "id": "dea767d3-e809-4009-845a-61b2dae25aea",
   "metadata": {},
   "outputs": [],
   "source": [
    "for job_id, job in enumerate(model.jobs_data):\n",
    "    for task_id, task in enumerate(job):\n",
    "        print(job_id, task_id, task)\n",
    "        print(solver.Value(model.all_tasks[job_id, task_id].start))"
   ]
  },
  {
   "cell_type": "code",
   "execution_count": null,
   "id": "b029ce9d-d3b5-4693-b0ce-6de1373d59c7",
   "metadata": {},
   "outputs": [],
   "source": [
    "# Named tuple to store information about created variables.\n",
    "task_type = collections.namedtuple(\"task_type\", \"start end interval\")\n",
    "# Named tuple to manipulate solution information.\n",
    "assigned_task_type = collections.namedtuple(\n",
    "    \"assigned_task_type\", \"start job index duration\"\n",
    ")\n",
    "all_tasks = {}\n",
    "machine_to_intervals = collections.defaultdict(list)\n",
    "    \n",
    "\n",
    "if status == cp_model.OPTIMAL or status == cp_model.FEASIBLE:\n",
    "    print(\"Solution:\")\n",
    "    # Create one list of assigned tasks per machine.\n",
    "    assigned_jobs = collections.defaultdict(list)\n",
    "    for job_id, job in enumerate(jobs_data):\n",
    "        for task_id, task in enumerate(job):\n",
    "            machine = task[0]\n",
    "            assigned_jobs[machine].append(\n",
    "                assigned_task_type(\n",
    "                    start=solver.Value(all_tasks[job_id, task_id].start),\n",
    "                    job=job_id,\n",
    "                    index=task_id,\n",
    "                    duration=task[1],\n",
    "                )\n",
    "            )\n",
    "\n",
    "    # Create per machine output lines.\n",
    "    output = \"\"\n",
    "    for machine in all_machines:\n",
    "        # Sort by starting time.\n",
    "        assigned_jobs[machine].sort()\n",
    "        sol_line_tasks = \"Machine \" + str(machine) + \": \"\n",
    "        sol_line = \"           \"\n",
    "\n",
    "        for assigned_task in assigned_jobs[machine]:\n",
    "            name = f\"job_{assigned_task.job}_task_{assigned_task.index}\"\n",
    "            # Add spaces to output to align columns.\n",
    "            sol_line_tasks += f\"{name:15}\"\n",
    "\n",
    "            start = assigned_task.start\n",
    "            duration = assigned_task.duration\n",
    "            sol_tmp = f\"[{start},{start + duration}]\"\n",
    "            # Add spaces to output to align columns.\n",
    "            sol_line += f\"{sol_tmp:15}\"\n",
    "\n",
    "        sol_line += \"\\n\"\n",
    "        sol_line_tasks += \"\\n\"\n",
    "        output += sol_line_tasks\n",
    "        output += sol_line\n",
    "\n",
    "    # Finally print the solution found.\n",
    "    print(f\"Optimal Schedule Length: {solver.ObjectiveValue()}\")\n",
    "    print(output)\n",
    "else:\n",
    "    print(\"No solution found.\")\n",
    "\n",
    "# Statistics.\n",
    "print(\"\\nStatistics\")\n",
    "print(f\"  - conflicts: {solver.NumConflicts()}\")\n",
    "print(f\"  - branches : {solver.NumBranches()}\")\n",
    "print(f\"  - wall time: {solver.WallTime()}s\")"
   ]
  }
 ],
 "metadata": {
  "kernelspec": {
   "display_name": "Python 3 (ipykernel)",
   "language": "python",
   "name": "python3"
  },
  "language_info": {
   "codemirror_mode": {
    "name": "ipython",
    "version": 3
   },
   "file_extension": ".py",
   "mimetype": "text/x-python",
   "name": "python",
   "nbconvert_exporter": "python",
   "pygments_lexer": "ipython3",
   "version": "3.10.12"
  }
 },
 "nbformat": 4,
 "nbformat_minor": 5
}

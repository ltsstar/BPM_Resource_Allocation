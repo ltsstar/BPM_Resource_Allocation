{
 "cells": [
  {
   "cell_type": "code",
   "execution_count": 1,
   "id": "d73c062f-f9c3-4c19-9a90-d18233897b2d",
   "metadata": {},
   "outputs": [],
   "source": [
    "\"\"\"Minimal jobshop example.\"\"\"\n",
    "import collections\n",
    "from ortools.sat.python import cp_model"
   ]
  },
  {
   "cell_type": "code",
   "execution_count": 72,
   "id": "0de23039-2221-424c-9ca8-c3420c6ced78",
   "metadata": {},
   "outputs": [],
   "source": [
    "# Data.\n",
    "task_data = [  # (task_id, machine_id, processing_time)\n",
    "    (0, 0, 3), (0, 1, 2), (0, 2, 2),  # Task0\n",
    "    (1, 0, 2), (1, 1, 1), (1, 2, 2),  # Task1\n",
    "    (2, 0, 6), (2, 1, 1),  # Task2\n",
    "    (3, 0, 1) # Task3\n",
    "]"
   ]
  },
  {
   "cell_type": "markdown",
   "id": "41ab661d-e5f4-4da8-b491-9b6058442d5b",
   "metadata": {},
   "source": [
    "# Encode job data"
   ]
  },
  {
   "cell_type": "code",
   "execution_count": null,
   "id": "82ac2d81-9c90-44f7-9fea-200faf7c4d2a",
   "metadata": {},
   "outputs": [],
   "source": []
  },
  {
   "cell_type": "markdown",
   "id": "b209ad49-f631-4e42-8923-a23e7d279c57",
   "metadata": {},
   "source": [
    "# Create CP model"
   ]
  },
  {
   "cell_type": "code",
   "execution_count": 73,
   "id": "6a562519-b89e-4d50-a199-c90fdeadb289",
   "metadata": {},
   "outputs": [],
   "source": [
    "# Create the model.\n",
    "\n",
    "class UnrelatedMachinesScheduling:\n",
    "    def __init__(self, task_data):\n",
    "        self.task_data = task_data\n",
    "        self.__define_model()\n",
    "        self.__define_constraints()\n",
    "        self.__define_objective()\n",
    "\n",
    "    def __define_model(self):\n",
    "        self.model = cp_model.CpModel()\n",
    "        # Named tuple to store information about created variables.\n",
    "        self.task_type = collections.namedtuple(\"task_type\", \"start end interval assigned\")\n",
    "        # Creates job intervals and add to the corresponding machine lists.\n",
    "        self.all_tasks = {}\n",
    "        self.task_assigned_machines = collections.defaultdict(list)\n",
    "        self.machine_to_intervals = collections.defaultdict(list)\n",
    "        self.intervals = collections.defaultdict(list)\n",
    "        self.goal_variables = collections.defaultdict(list)\n",
    "        self.horizon = sum(task[2] for task in self.task_data)\n",
    "    \n",
    "    \n",
    "    def __define_constraints(self):\n",
    "        #Define decision variable\n",
    "        for task, machine, processing_time in self.task_data:\n",
    "            suffix = f\"_{task}_{machine}\"\n",
    "            assigned_var = self.model.NewIntVar(0, 1, 'assigned' + suffix)\n",
    "            self.task_assigned_machines[task].append(assigned_var)\n",
    "            start_var = self.model.NewIntVar(0, self.horizon, 'start' + suffix)\n",
    "            end_var = self.model.NewIntVar(0, self.horizon, 'end' + suffix)\n",
    "            interval_var = self.model.NewIntervalVar(\n",
    "                start    = start_var,\n",
    "                end      = end_var,\n",
    "                size = processing_time,\n",
    "                name = 'interval'+suffix\n",
    "            )\n",
    "            goal_variable = self.model.NewIntVar(0, self.horizon, 'goal' + suffix)\n",
    "            self.model.AddMultiplicationEquality(goal_variable, assigned_var, end_var) \n",
    "            self.goal_variables[task, machine] = goal_variable\n",
    "            self.intervals[task, machine] = self.task_type(\n",
    "                start = start_var,\n",
    "                end = end_var,\n",
    "                assigned = assigned_var,\n",
    "                interval = interval_var\n",
    "            )\n",
    "            self.machine_to_intervals[machine].append(interval_var)\n",
    "\n",
    "        #Constraint 1: No machine may work on more than one task simultaneously\n",
    "        machines_count = 1 + max(task[1] for task in self.task_data)\n",
    "        all_machines = range(machines_count)\n",
    "        for machine in all_machines:\n",
    "            #no overlap between intervals of one machine\n",
    "            self.model.AddNoOverlap(self.machine_to_intervals[machine])\n",
    "\n",
    "        #Constraint 2: All tasks must be assigned to exactly one machine\n",
    "        tasks_count = 1+ max(task[0] for task in self.task_data)\n",
    "        all_tasks = range(tasks_count)\n",
    "        for task in all_tasks:\n",
    "            #sum of assignment variable of task must be one\n",
    "            self.model.Add(cp_model.LinearExpr.Sum(self.task_assigned_machines[task]) == 1)\n",
    "        \n",
    "    def __define_objective(self):\n",
    "        # Makespan objective.\n",
    "        obj_var = self.model.NewIntVar(0, self.horizon, \"makespan\")\n",
    "        self.model.AddMaxEquality(\n",
    "            obj_var,\n",
    "            [self.goal_variables[task, machine] for task, machine, _ in self.task_data],\n",
    "        )\n",
    "        self.model.Minimize(obj_var)\n",
    "\n",
    "    def solve(self, solver=cp_model.CpSolver()):\n",
    "        status = solver.Solve(self.model)\n",
    "        return (solver, status)\n",
    "\n",
    "\n",
    "model = UnrelatedMachinesScheduling(task_data)"
   ]
  },
  {
   "cell_type": "code",
   "execution_count": 74,
   "id": "deef750c-7051-4518-a06d-3b262a973429",
   "metadata": {},
   "outputs": [
    {
     "name": "stdout",
     "output_type": "stream",
     "text": [
      "feasible: False , optimal: True\n"
     ]
    }
   ],
   "source": [
    "# Creates the solver and solve.\n",
    "solver, status = model.solve()\n",
    "\n",
    "print('feasible:', status == cp_model.FEASIBLE, ', optimal:', status == cp_model.OPTIMAL)"
   ]
  },
  {
   "cell_type": "code",
   "execution_count": 75,
   "id": "dea767d3-e809-4009-845a-61b2dae25aea",
   "metadata": {},
   "outputs": [
    {
     "name": "stdout",
     "output_type": "stream",
     "text": [
      "(0, 2) 0-2\n",
      "(1, 1) 0-1\n",
      "(2, 1) 1-2\n",
      "(3, 0) 0-1\n"
     ]
    }
   ],
   "source": [
    "for iid, interval in model.intervals.items():\n",
    "    if solver.Value(interval.assigned):\n",
    "        print(iid, f\"{solver.Value(interval.start)}-{solver.Value(interval.end)}\")"
   ]
  }
 ],
 "metadata": {
  "kernelspec": {
   "display_name": "Python 3 (ipykernel)",
   "language": "python",
   "name": "python3"
  },
  "language_info": {
   "codemirror_mode": {
    "name": "ipython",
    "version": 3
   },
   "file_extension": ".py",
   "mimetype": "text/x-python",
   "name": "python",
   "nbconvert_exporter": "python",
   "pygments_lexer": "ipython3",
   "version": "3.10.12"
  }
 },
 "nbformat": 4,
 "nbformat_minor": 5
}

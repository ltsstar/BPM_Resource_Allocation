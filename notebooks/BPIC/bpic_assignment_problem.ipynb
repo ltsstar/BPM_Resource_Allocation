{
 "cells": [
  {
   "cell_type": "code",
   "execution_count": 1,
   "id": "32bbb272-eced-45c8-80e8-676e8940d468",
   "metadata": {},
   "outputs": [],
   "source": [
    "import numpy as np\n",
    "import pandas as pd\n",
    "import matplotlib.pyplot as plt\n",
    "import matplotlib"
   ]
  },
  {
   "cell_type": "code",
   "execution_count": 2,
   "id": "561de379-578f-4747-8646-9409cd49ab64",
   "metadata": {},
   "outputs": [],
   "source": [
    "SHOW_FIGURES = True"
   ]
  },
  {
   "cell_type": "code",
   "execution_count": 3,
   "id": "d233a73a-24c1-4306-83b0-51275e6705b6",
   "metadata": {},
   "outputs": [],
   "source": [
    "if not SHOW_FIGURES:\n",
    "    matplotlib.use(\"pgf\")\n",
    "    matplotlib.rcParams.update({\n",
    "        \"pgf.texsystem\": \"pdflatex\",\n",
    "        'font.family': 'serif',\n",
    "        'text.usetex': True,\n",
    "        'pgf.rcfonts': False,\n",
    "        'text.latex.preamble' : r'\\newcommand{\\mathdefault}[1][]{}'\n",
    "    })\n"
   ]
  },
  {
   "cell_type": "code",
   "execution_count": 4,
   "id": "18564c39-7f04-4aee-b7bf-f6500266390c",
   "metadata": {},
   "outputs": [],
   "source": [
    "file_path = '../merged.csv'\n",
    "file_path = '../results_Hungarian/results.csv'\n",
    "#column_names = ['delta', 'state', 'time', 'occupation', 'fairness']\n",
    "#df = pd.read_csv(file_path)"
   ]
  },
  {
   "cell_type": "code",
   "execution_count": 5,
   "id": "12d40dbc-5a71-4023-a410-e72e5da402fd",
   "metadata": {},
   "outputs": [
    {
     "ename": "FileNotFoundError",
     "evalue": "[Errno 2] No such file or directory: '../results_Hungarian/results.csv'",
     "output_type": "error",
     "traceback": [
      "\u001b[0;31m---------------------------------------------------------------------------\u001b[0m",
      "\u001b[0;31mFileNotFoundError\u001b[0m                         Traceback (most recent call last)",
      "Cell \u001b[0;32mIn[5], line 2\u001b[0m\n\u001b[1;32m      1\u001b[0m csv_dict \u001b[38;5;241m=\u001b[39m []\n\u001b[0;32m----> 2\u001b[0m \u001b[38;5;28;01mwith\u001b[39;00m \u001b[38;5;28;43mopen\u001b[39;49m\u001b[43m(\u001b[49m\u001b[43mfile_path\u001b[49m\u001b[43m,\u001b[49m\u001b[43m \u001b[49m\u001b[38;5;124;43m'\u001b[39;49m\u001b[38;5;124;43mr\u001b[39;49m\u001b[38;5;124;43m'\u001b[39;49m\u001b[43m)\u001b[49m \u001b[38;5;28;01mas\u001b[39;00m file:\n\u001b[1;32m      3\u001b[0m     \u001b[38;5;66;03m# Iterate over each line in the fileplt.plot(x_fit, y_fit, color='green', label='Polynomial Approximation')\u001b[39;00m\n\u001b[1;32m      4\u001b[0m     \u001b[38;5;28;01mfor\u001b[39;00m line \u001b[38;5;129;01min\u001b[39;00m file:\n\u001b[1;32m      5\u001b[0m         \u001b[38;5;66;03m# Split the line content by comma\u001b[39;00m\n\u001b[1;32m      6\u001b[0m         line_data \u001b[38;5;241m=\u001b[39m line\u001b[38;5;241m.\u001b[39mstrip()\u001b[38;5;241m.\u001b[39msplit(\u001b[38;5;124m'\u001b[39m\u001b[38;5;124m,\u001b[39m\u001b[38;5;124m'\u001b[39m)\n",
      "File \u001b[0;32m~/.local/share/virtualenvs/BPO_Batching-9ubDlYK6/lib/python3.10/site-packages/IPython/core/interactiveshell.py:324\u001b[0m, in \u001b[0;36m_modified_open\u001b[0;34m(file, *args, **kwargs)\u001b[0m\n\u001b[1;32m    317\u001b[0m \u001b[38;5;28;01mif\u001b[39;00m file \u001b[38;5;129;01min\u001b[39;00m {\u001b[38;5;241m0\u001b[39m, \u001b[38;5;241m1\u001b[39m, \u001b[38;5;241m2\u001b[39m}:\n\u001b[1;32m    318\u001b[0m     \u001b[38;5;28;01mraise\u001b[39;00m \u001b[38;5;167;01mValueError\u001b[39;00m(\n\u001b[1;32m    319\u001b[0m         \u001b[38;5;124mf\u001b[39m\u001b[38;5;124m\"\u001b[39m\u001b[38;5;124mIPython won\u001b[39m\u001b[38;5;124m'\u001b[39m\u001b[38;5;124mt let you open fd=\u001b[39m\u001b[38;5;132;01m{\u001b[39;00mfile\u001b[38;5;132;01m}\u001b[39;00m\u001b[38;5;124m by default \u001b[39m\u001b[38;5;124m\"\u001b[39m\n\u001b[1;32m    320\u001b[0m         \u001b[38;5;124m\"\u001b[39m\u001b[38;5;124mas it is likely to crash IPython. If you know what you are doing, \u001b[39m\u001b[38;5;124m\"\u001b[39m\n\u001b[1;32m    321\u001b[0m         \u001b[38;5;124m\"\u001b[39m\u001b[38;5;124myou can use builtins\u001b[39m\u001b[38;5;124m'\u001b[39m\u001b[38;5;124m open.\u001b[39m\u001b[38;5;124m\"\u001b[39m\n\u001b[1;32m    322\u001b[0m     )\n\u001b[0;32m--> 324\u001b[0m \u001b[38;5;28;01mreturn\u001b[39;00m \u001b[43mio_open\u001b[49m\u001b[43m(\u001b[49m\u001b[43mfile\u001b[49m\u001b[43m,\u001b[49m\u001b[43m \u001b[49m\u001b[38;5;241;43m*\u001b[39;49m\u001b[43margs\u001b[49m\u001b[43m,\u001b[49m\u001b[43m \u001b[49m\u001b[38;5;241;43m*\u001b[39;49m\u001b[38;5;241;43m*\u001b[39;49m\u001b[43mkwargs\u001b[49m\u001b[43m)\u001b[49m\n",
      "\u001b[0;31mFileNotFoundError\u001b[0m: [Errno 2] No such file or directory: '../results_Hungarian/results.csv'"
     ]
    }
   ],
   "source": [
    "csv_dict = []\n",
    "with open(file_path, 'r') as file:\n",
    "    # Iterate over each line in the fileplt.plot(x_fit, y_fit, color='green', label='Polynomial Approximation')\n",
    "    for line in file:\n",
    "        # Split the line content by comma\n",
    "        line_data = line.strip().split(',')\n",
    "\n",
    "        if len(line_data) == 7:\n",
    "            seven_keys = ['delta', 'state', 'time', 'occupation', 'fairness', 'allocated', 'skipped']\n",
    "            csv_dict.append(dict(zip(seven_keys, line_data)))\n",
    "\n",
    "        elif len(line_data) == 15:\n",
    "            fifteen_keys = ['method', 'execution time', 'delta', 'average make span', 'result message',\n",
    "                            'makespan', 'resource occupation', 'resource fairness',\n",
    "                            'assigned tasks', 'allocated tasks', 'postponed tasks',\n",
    "                            'optimal solution', 'feasible solution', 'no solution',\n",
    "                            'resource worklist rule'\n",
    "                            ]\n",
    "            csv_dict.append(dict(zip(fifteen_keys, line_data)))\n",
    "        elif len(line_data) == 19:\n",
    "            nineteen_keys = ['method', 'start time', 'end time', 'real execution time', 'system execution time',\n",
    "                             'delta', 'average make span', 'result message',\n",
    "                            'makespan', 'resource occupation', 'resource fairness', 'weighted resource fairness',\n",
    "                            'assigned tasks', 'allocated tasks', 'postponed tasks',\n",
    "                            'optimal solution', 'feasible solution', 'no solution',\n",
    "                            'resource worklist rule'\n",
    "                            ]\n",
    "            row_dict = dict(zip(nineteen_keys, line_data))\n",
    "            for k in ['optimal solution', 'feasible solution', 'no solution']:\n",
    "                if row_dict[k] == '':\n",
    "                    row_dict[k] = 0\n",
    "            csv_dict.append(row_dict)\n",
    "        else:\n",
    "            print(len(line_data))\n",
    "\n",
    "        #print(line_data)\n",
    "        # Print or process the split data as needed\n",
    "        #print(line_data)\n",
    "df_dtypes = {'method' : str, 'start time' : str, 'end time' : str, 'real execution time' : float, 'system execution time' : float,\n",
    "             'delta' : float, 'makespan' : float, 'result message' : str,\n",
    "             'makespan' : float, 'resource occupation' : float, 'resource fairness' : float, 'weighted resource fairness' : float,\n",
    "             'assigned tasks' : int, 'allocated tasks' : int, 'postponed tasks' : int,\n",
    "             'optimal solution' : int, 'feasible solution' : int, 'no solution' : int,\n",
    "             'resource worklist rule' : str}\n",
    "df = pd.DataFrame(csv_dict)\n",
    "for k, v in df_dtypes.items():\n",
    "    df[k] = df[k].astype(v)"
   ]
  },
  {
   "cell_type": "code",
   "execution_count": null,
   "id": "9c7b0c74-1c82-4426-8f7b-2c128d939c65",
   "metadata": {},
   "outputs": [],
   "source": [
    "df = df[df['method'] == 'Hungarian']\n",
    "df.reset_index(inplace=True)\n",
    "df"
   ]
  },
  {
   "cell_type": "code",
   "execution_count": null,
   "id": "891b31cf-5c58-472f-b3f9-5ee8bfea70c1",
   "metadata": {},
   "outputs": [],
   "source": [
    "# Df has some values like delta=1.99\n",
    "# Filter so that distances are 0.02 e.g. [..., 1.94, 1.96, 1.98, 2.0]\n",
    "n = 1000\n",
    "df = df[((df['delta']*n).astype(int) % int(0.02 * n)) == 0]\n",
    "df"
   ]
  },
  {
   "cell_type": "code",
   "execution_count": null,
   "id": "47f4a67e-7d01-4fdc-a9dc-e8bb0ab3585f",
   "metadata": {},
   "outputs": [],
   "source": [
    "# When two equal delta values are present sample a random one\n",
    "result = df.groupby('delta').apply(lambda x: x.sample(1)).reset_index(drop=True)\n",
    "#result\n",
    "df = result"
   ]
  },
  {
   "cell_type": "code",
   "execution_count": null,
   "id": "b37be262-2ff8-4b55-989f-bde8b88ddf5d",
   "metadata": {},
   "outputs": [],
   "source": [
    "df"
   ]
  },
  {
   "cell_type": "code",
   "execution_count": null,
   "id": "aecd010d-ada2-4943-b848-f6f3a87b92d6",
   "metadata": {},
   "outputs": [],
   "source": [
    "from scipy.optimize import curve_fit\n",
    "\n",
    "def polynomial_func(x, *coeffs):\n",
    "    return sum(c * x**i for i, c in enumerate(coeffs))\n",
    "\n",
    "degree = 2  # Adjust the degree of the polynomial\n",
    "params, _ = curve_fit(polynomial_func, df['delta'], df['makespan'], p0=[1] * (degree + 1))\n",
    "\n",
    "x_fit = np.linspace(df['delta'].min(), df['delta'].max(), 100)\n",
    "y_fit = polynomial_func(x_fit, *params)\n",
    "\n"
   ]
  },
  {
   "cell_type": "code",
   "execution_count": null,
   "id": "4bb7c2c7-dbde-43d0-a3ae-6f62e9420462",
   "metadata": {},
   "outputs": [],
   "source": [
    "df = df[df['result message'] != 'Stopped']\n",
    "df = df.sort_values(by='delta')"
   ]
  },
  {
   "cell_type": "code",
   "execution_count": null,
   "id": "9f798cd9-af7f-4b7d-8e96-963f55a5771f",
   "metadata": {},
   "outputs": [],
   "source": [
    "def plot(x, y, labels=None, colors=plt.rcParams[\"axes.prop_cycle\"](), degree=2, yrange=None):\n",
    "    plt.clf()\n",
    "    fig = plt.gcf()\n",
    "    fig.set_size_inches(6, 2.5)\n",
    "    \n",
    "    # Plot the data\n",
    "    p = plt.scatter(x, y, marker='o', color=next(colors)['color'])\n",
    "    \n",
    "    # Set labels and title\n",
    "    if labels:\n",
    "        plt.xlabel(labels[0])\n",
    "        plt.ylabel(labels[1])\n",
    "    else:\n",
    "        plt.xlabel('x')\n",
    "        plt.ylabel('y')\n",
    "\n",
    "    params, _ = curve_fit(polynomial_func, x, y, p0=[1] * (degree + 1))\n",
    "    \n",
    "    x_fit = np.linspace(x.min(), x.max(), 100)\n",
    "    y_fit = polynomial_func(x_fit, *params)\n",
    "    plt.plot(x_fit, y_fit, color=p.get_facecolor(), label='Polynomial Approximation')\n",
    "\n",
    "    if yrange:\n",
    "        plt.ylim(yrange[0], yrange[1])\n",
    "        plt.yticks(np.linspace(yrange[0], yrange[1], 11))\n",
    "    else:\n",
    "        y_range = y.max() - y.min()\n",
    "        plt.ylim(y.min() - 0.1*y_range, y.max() + 0.1*y_range)\n",
    "        plt.yticks(np.linspace(y.min(), y.max(), 10))\n",
    "    plt.xticks(np.linspace(0.9, 2.0, 12))\n",
    "\n",
    "    plt.xlim(0.85, 2.05)\n",
    "    \n",
    "    plt.xticks(rotation=45)\n",
    "    plt.tight_layout(pad=0.2)\n",
    "    \n",
    "    # Show the plot\n",
    "    if  not SHOW_FIGURES:\n",
    "        plt.savefig('task_assignment_' + labels[0] + '_' + labels[1] + '.pgf')\n",
    "    plt.show()\n",
    "\n",
    "\n",
    "colors = plt.rcParams[\"axes.prop_cycle\"]()\n",
    "\n",
    "plot(df['delta'], df['makespan'], ('Delta', 'Avg. cycle time'), yrange=(10, 25), colors=colors)\n",
    "plot(df['delta'], df['resource occupation'], ('Delta', 'Resource occupation'), colors=colors, yrange=(0.5,1))\n",
    "plot(df['delta'], df['resource fairness'], ('Delta', 'Resource fairness'), colors=colors, yrange=(0.0,0.1))\n",
    "plot(df['delta'], df['weighted resource fairness'], ('Delta', 'Weighted resource fairness'), colors=colors, yrange=(0.5,3.5))\n",
    "plot(df['delta'], df['postponed tasks'], ('Delta', 'Postponed tasks'), colors=colors)\n",
    "plot(df['delta'], df['allocated tasks'], ('Delta', 'Allocated tasks'), colors=colors)\n",
    "plot(df['delta'], df['allocated tasks'], ('Delta', 'Assigned tasks'), colors=colors)"
   ]
  }
 ],
 "metadata": {
  "kernelspec": {
   "display_name": "Python 3 (ipykernel)",
   "language": "python",
   "name": "python3"
  },
  "language_info": {
   "codemirror_mode": {
    "name": "ipython",
    "version": 3
   },
   "file_extension": ".py",
   "mimetype": "text/x-python",
   "name": "python",
   "nbconvert_exporter": "python",
   "pygments_lexer": "ipython3",
   "version": "3.10.12"
  }
 },
 "nbformat": 4,
 "nbformat_minor": 5
}

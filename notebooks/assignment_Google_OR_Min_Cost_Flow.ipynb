{
 "cells": [
  {
   "cell_type": "code",
   "execution_count": 1,
   "id": "98bc932f-7520-4571-9650-660700d91f94",
   "metadata": {},
   "outputs": [],
   "source": [
    "import numpy as np\n",
    "\n",
    "from ortools.graph.python import min_cost_flow"
   ]
  },
  {
   "cell_type": "code",
   "execution_count": 2,
   "id": "b8c143e4-9ea8-4af5-9fb9-e3f9abd540df",
   "metadata": {},
   "outputs": [],
   "source": [
    "start_nodes = [0, 1, 1, 2, 3]\n",
    "end_nodes = [1, 2, 3, 4, 4]\n",
    "capacities = [1, 1, 1, 1, 1]\n",
    "costs = [0, 2, 1, 0, 0]\n",
    "\n",
    "source = 0\n",
    "sink = 4\n",
    "\n",
    "supplies = [1, 0, 0, 0, -1]"
   ]
  },
  {
   "cell_type": "code",
   "execution_count": 3,
   "id": "13e2ea4e-e95f-4c10-a25e-8d61c9d6e2fa",
   "metadata": {},
   "outputs": [],
   "source": [
    "smcf = min_cost_flow.SimpleMinCostFlow()\n",
    "\n",
    "# Add each arc.\n",
    "for i in range(len(start_nodes)):\n",
    "    smcf.add_arc_with_capacity_and_unit_cost(\n",
    "        start_nodes[i], end_nodes[i], capacities[i], costs[i]\n",
    "    )\n",
    "# Add node supplies.\n",
    "for i in range(len(supplies)):\n",
    "    smcf.set_node_supply(i, supplies[i])\n",
    "    "
   ]
  },
  {
   "cell_type": "code",
   "execution_count": 4,
   "id": "bf860ad7-99a3-4f20-9773-ee5b67c20bc8",
   "metadata": {},
   "outputs": [
    {
     "name": "stdout",
     "output_type": "stream",
     "text": [
      "Total cost =  1\n",
      "\n",
      "Worker 1 assigned to task 3.  Cost = 1\n"
     ]
    }
   ],
   "source": [
    "status = smcf.solve()\n",
    "\n",
    "if status == smcf.OPTIMAL:\n",
    "    print(\"Total cost = \", smcf.optimal_cost())\n",
    "    print()\n",
    "    for arc in range(smcf.num_arcs()):\n",
    "        # Can ignore arcs leading out of source or into sink.\n",
    "        if smcf.tail(arc) != source and smcf.head(arc) != sink:\n",
    "            # Arcs in the solution have a flow value of 1. Their start and end nodes\n",
    "            # give an assignment of worker to task.\n",
    "            if smcf.flow(arc) > 0:\n",
    "                print(\n",
    "                    \"Worker %d assigned to task %d.  Cost = %d\"\n",
    "                    % (smcf.tail(arc), smcf.head(arc), smcf.unit_cost(arc))\n",
    "                )\n",
    "else:\n",
    "    print(\"There was an issue with the min cost flow input.\")\n",
    "    print(f\"Status: {status}\")"
   ]
  },
  {
   "cell_type": "code",
   "execution_count": 37,
   "id": "f672011c-a7db-43a7-8b71-f5219d377103",
   "metadata": {},
   "outputs": [],
   "source": [
    "def do_matching( relevant_task_data, num_tasks, num_resources, reduction = 0):\n",
    "    start_nodes = [0 for i in range(num_resources)]\n",
    "    end_nodes = [i+1 for i in range(num_resources)]\n",
    "    capacities = [1 for i in range(num_resources)]\n",
    "    costs = [0 for i in range(num_resources)]\n",
    "    for task_ix, resource_ix, d in relevant_task_data:\n",
    "        start_nodes += [resource_ix+1]\n",
    "        end_nodes += [num_resources+1+task_ix]\n",
    "        capacities += [1]\n",
    "        costs += [d]\n",
    "\n",
    "    start_nodes += [num_resources+1+task_ix for task_ix in range(num_tasks)]\n",
    "    end_nodes += [num_tasks+num_resources+1 for task_ix in range(num_tasks)]\n",
    "    capacities += [1 for i in range(num_tasks)]\n",
    "    costs += [0 for i in range(num_tasks)]\n",
    "\n",
    "    supplies = [min(num_tasks, num_resources) - reduction] +\\\n",
    "                [0 for i in range(num_tasks+num_resources)] +\\\n",
    "                [-min(num_tasks, num_resources) + reduction]\n",
    "\n",
    "    print(start_nodes)\n",
    "    print(end_nodes)\n",
    "    print(capacities)\n",
    "    print(costs)\n",
    "    print(supplies)\n",
    "    smcf = min_cost_flow.SimpleMinCostFlow()\n",
    "\n",
    "    # Add each arc.\n",
    "    for i in range(len(start_nodes)):\n",
    "        smcf.add_arc_with_capacity_and_unit_cost(\n",
    "            start_nodes[i], end_nodes[i], capacities[i], costs[i]\n",
    "        )\n",
    "    # Add node supplies.\n",
    "    for i in range(len(supplies)):\n",
    "        smcf.set_node_supply(i, supplies[i])\n",
    "\n",
    "    status = smcf.solve_max_flow_with_min_cost()\n",
    "    #status = smcf.solve()\n",
    "    return smcf, status"
   ]
  },
  {
   "cell_type": "code",
   "execution_count": null,
   "id": "bf25836b-6a69-4756-a5e7-40fe35b01500",
   "metadata": {},
   "outputs": [],
   "source": []
  },
  {
   "cell_type": "code",
   "execution_count": 38,
   "id": "b14c2824-d8df-47ef-9043-f712891e0402",
   "metadata": {},
   "outputs": [
    {
     "name": "stdout",
     "output_type": "stream",
     "text": [
      "[0, 0, 2, 2, 3, 4]\n",
      "[1, 2, 3, 4, 5, 5]\n",
      "[1, 1, 1, 1, 1, 1]\n",
      "[0, 0, 333, 546, 0, 0]\n",
      "[2, 0, 0, 0, 0, -2]\n"
     ]
    }
   ],
   "source": [
    "relevant_task_data = [(0, 1, 333), (1, 1, 546)]\n",
    "num_tasks = 2\n",
    "num_resources = 2\n",
    "\n",
    "smcf, status = do_matching(relevant_task_data, num_tasks, num_resources)"
   ]
  },
  {
   "cell_type": "code",
   "execution_count": 39,
   "id": "670d6a04-8607-40c8-89c6-8851199a7cdf",
   "metadata": {},
   "outputs": [
    {
     "name": "stdout",
     "output_type": "stream",
     "text": [
      "Status.INFEASIBLE\n",
      "There was an issue with the min cost flow input.\n",
      "Status: Status.INFEASIBLE\n"
     ]
    }
   ],
   "source": [
    "print(status)\n",
    "if status == smcf.OPTIMAL:\n",
    "    print(\"Total cost = \", smcf.optimal_cost())\n",
    "    print()\n",
    "    for arc in range(smcf.num_arcs()):\n",
    "        # Can ignore arcs leading out of source or into sink.\n",
    "        if smcf.tail(arc) != source and smcf.head(arc) != sink:\n",
    "            # Arcs in the solution have a flow value of 1. Their start and end nodes\n",
    "            # give an assignment of worker to task.\n",
    "            if smcf.flow(arc) > 0:\n",
    "                print(\n",
    "                    \"Worker %d assigned to task %d.  Cost = %d\"\n",
    "                    % (smcf.tail(arc), smcf.head(arc), smcf.unit_cost(arc))\n",
    "                )\n",
    "else:\n",
    "    print(\"There was an issue with the min cost flow input.\")\n",
    "    print(f\"Status: {status}\")"
   ]
  }
 ],
 "metadata": {
  "kernelspec": {
   "display_name": "Python 3 (ipykernel)",
   "language": "python",
   "name": "python3"
  },
  "language_info": {
   "codemirror_mode": {
    "name": "ipython",
    "version": 3
   },
   "file_extension": ".py",
   "mimetype": "text/x-python",
   "name": "python",
   "nbconvert_exporter": "python",
   "pygments_lexer": "ipython3",
   "version": "3.10.12"
  }
 },
 "nbformat": 4,
 "nbformat_minor": 5
}

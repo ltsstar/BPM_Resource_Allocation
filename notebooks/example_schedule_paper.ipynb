{
 "cells": [
  {
   "cell_type": "code",
   "execution_count": 1,
   "id": "be37c823-5923-4f06-b462-5d074fef3137",
   "metadata": {},
   "outputs": [
    {
     "data": {
      "text/plain": [
       "'/home/michel/Documents/BPO_Batching/notebooks'"
      ]
     },
     "execution_count": 1,
     "metadata": {},
     "output_type": "execute_result"
    }
   ],
   "source": [
    "import sys\n",
    "import os\n",
    "\n",
    "# append the path of the parent directory\n",
    "sys.path.append(\"../src\")\n",
    "os.path.abspath(os.getcwd())"
   ]
  },
  {
   "cell_type": "code",
   "execution_count": 2,
   "id": "b4be773c-0612-4061-961f-941fd63c94ac",
   "metadata": {},
   "outputs": [],
   "source": [
    "import collections\n",
    "import numpy as np\n",
    "from ilp_policy_non_assign_2 import *\n",
    "from hungarian_policy import *"
   ]
  },
  {
   "cell_type": "code",
   "execution_count": 3,
   "id": "fb2ffb33-e31f-4135-b4c8-e335683db30b",
   "metadata": {},
   "outputs": [],
   "source": [
    "class Task:\n",
    "    def __init__(self, name, task_type):\n",
    "        self.name = name\n",
    "        self.task_type = task_type\n",
    "\n",
    "    def __str__(self):\n",
    "        return self.name\n",
    "\n",
    "    def __repr__(self):\n",
    "        return self.name"
   ]
  },
  {
   "cell_type": "code",
   "execution_count": 37,
   "id": "15291f56-0ad1-4d7e-9455-2cca36556062",
   "metadata": {},
   "outputs": [],
   "source": [
    "t1 = Task('t1', 't1')\n",
    "t2 = Task('t2', 't2')\n",
    "\n",
    "unassigned_tasks = [t1, t2]\n",
    "initial_available_resources = ['Ra', 'Rb']\n",
    "working_resources = {}\n",
    "resource_pool = {\n",
    "    't1' : ['Ra', 'Rb'],\n",
    "    't2' : ['Ra', 'Rc'],\n",
    "}\n",
    "trds = {\n",
    "    (t1, 'Ra') : 3,\n",
    "    #(t1, 'Rb') : 10,\n",
    "    (t1, 'Rb') : 15,\n",
    "    (t1, 'Rd') : 21,\n",
    "\n",
    "    (t2, 'Ra') : 7,\n",
    "    (t2, 'Rc') : 7,\n",
    "    (t2, 'Rd') : 22,\n",
    "}\n",
    "task_durations = collections.defaultdict(list)\n",
    "for (t, r), trd in trds.items():\n",
    "    task_durations[t].append(trd)\n",
    "mean_durations = {k: np.mean(v) for k, v in task_durations.items()}"
   ]
  },
  {
   "cell_type": "code",
   "execution_count": 38,
   "id": "03825d24-ecea-42b0-890e-1b381d662a6b",
   "metadata": {},
   "outputs": [
    {
     "name": "stdout",
     "output_type": "stream",
     "text": [
      "defaultdict(<class 'list'>, {t1: [3, 15, 21], t2: [7, 7, 22]})\n",
      "{t1: 13.0, t2: 12.0}\n"
     ]
    }
   ],
   "source": [
    "print(task_durations)\n",
    "print(mean_durations)"
   ]
  },
  {
   "cell_type": "code",
   "execution_count": null,
   "id": "765ed6ff-a787-43fb-8648-400eb7b38532",
   "metadata": {},
   "outputs": [],
   "source": []
  },
  {
   "cell_type": "code",
   "execution_count": 6,
   "id": "fd53f643-34da-4773-b2cc-ef9e169e0dc9",
   "metadata": {},
   "outputs": [
    {
     "name": "stdout",
     "output_type": "stream",
     "text": [
      "[t1, t2] ['Ra', 'Rb'] {'t1': ['Ra', 'Rb'], 't2': ['Ra', 'Rc']} {(t1, 'Ra'): 3, (t1, 'Rb'): 15, (t2, 'Ra'): 7, (t2, 'Rc'): 7, (t2, 'Rd'): 50} {} {} {t1: 9.0, t2: 21.333333333333332} {} 0\n"
     ]
    }
   ],
   "source": [
    "print(unassigned_tasks, initial_available_resources, resource_pool, trds, {}, {}, mean_durations, working_resources, 0)"
   ]
  },
  {
   "cell_type": "code",
   "execution_count": 7,
   "id": "07e91f95-6c5a-43d1-8a73-d27ddd66ac49",
   "metadata": {},
   "outputs": [],
   "source": [
    "def do_allocation(policy, unassigned_tasks, available_resources, resource_pool, trds, mean_durations, working_resources, time):\n",
    "    allocation = policy.allocate(unassigned_tasks, available_resources, resource_pool, trds, {}, {}, mean_durations, working_resources, time)\n",
    "    return allocation\n",
    "\n",
    "def add_working_resources(time, trds, allocation, available_resources, working_resources):\n",
    "    new_available_resources = available_resources.copy()\n",
    "    new_working_resources = working_resources.copy()\n",
    "    for t, r in allocation:\n",
    "        new_working_resources[r] = (time, trds[(t,r)])\n",
    "        new_available_resources.remove(r)\n",
    "    return new_available_resources, new_working_resources\n",
    "\n",
    "def remove_working_resources(time, available_resources, working_resources):\n",
    "    new_available_resources = available_resources.copy()\n",
    "    new_working_resources = working_resources.copy()\n",
    "    for r, ts in working_resources.items():\n",
    "        if sum(ts) <= time:\n",
    "            del new_working_resources[r]\n",
    "            new_available_resources.append(r)\n",
    "    return new_available_resources, new_working_resources\n",
    "\n",
    "def remove_unassigned_tasks(allocation, unassigned_tasks):\n",
    "    new_unassigned_tasks = unassigned_tasks.copy()\n",
    "    for t,r in allocation:\n",
    "        new_unassigned_tasks.remove(t)\n",
    "    return new_unassigned_tasks\n",
    "\n",
    "def remove_trds(allocation, trds):\n",
    "    new_trds = trds.copy()\n",
    "    for t,r in allocation:\n",
    "        for tt,rr in trds.keys():\n",
    "            if t==tt:\n",
    "                del new_trds[(tt,rr)]\n",
    "    return new_trds"
   ]
  },
  {
   "cell_type": "code",
   "execution_count": 8,
   "id": "b5cda50f-f190-4528-af85-1c281cccde1a",
   "metadata": {},
   "outputs": [
    {
     "data": {
      "text/plain": [
       "dict_values([])"
      ]
     },
     "execution_count": 8,
     "metadata": {},
     "output_type": "execute_result"
    }
   ],
   "source": [
    "working_resources.values()"
   ]
  },
  {
   "cell_type": "code",
   "execution_count": 9,
   "id": "33a61770-e488-49d2-a1f0-283bda045860",
   "metadata": {},
   "outputs": [],
   "source": [
    "next_event = lambda working_resources : min(map(sum, working_resources.values())) if working_resources else np.inf\n",
    "\n",
    "\n",
    "def do_simulation(policy, time, unassigned_tasks, available_resources, working_resources, trds, mean_durations, resource_pool):\n",
    "    log = ''\n",
    "    unassigned_tasks = unassigned_tasks.copy()\n",
    "    available_resources = available_resources.copy()\n",
    "    working_resources = working_resources.copy()\n",
    "    trds = trds.copy()\n",
    "\n",
    "    resource_rc_spawned = False\n",
    "    \n",
    "    while len(working_resources) or len(unassigned_tasks):\n",
    "        log += str(time)+'\\n'\n",
    "\n",
    "        available_resources, working_resources = remove_working_resources(time, available_resources, working_resources)\n",
    "        print(unassigned_tasks, available_resources, resource_pool, trds, mean_durations.copy(), working_resources, time)\n",
    "        allocation = do_allocation(policy, unassigned_tasks, available_resources, resource_pool, trds, mean_durations.copy(), working_resources, time)\n",
    "        log += 'Suggested allocation: ' + str(allocation)+'\\n'\n",
    "        \n",
    "        real_allocation_dict = collections.defaultdict(list)\n",
    "        for task, resource in allocation:\n",
    "            real_allocation_dict[resource].append((trds[(task, resource)], task))\n",
    "        allocation = []\n",
    "        for resource, tasks in real_allocation_dict.items():\n",
    "            allocation.append((sorted(tasks, key=lambda x : x[0])[0][1], resource))\n",
    "\n",
    "        log += 'Real allocation: ' + str(allocation) + '\\n'\n",
    "        \n",
    "        unassigned_tasks = remove_unassigned_tasks(allocation, unassigned_tasks)\n",
    "        available_resources, working_resources = add_working_resources(time, trds, allocation, available_resources, working_resources)\n",
    "        trds = remove_trds(allocation, trds)\n",
    "        log += ', '.join(map(str, [unassigned_tasks, available_resources, trds, working_resources]))+'\\n'\n",
    "\n",
    "        time = next_event(working_resources)\n",
    "        if not resource_rc_spawned:\n",
    "            time = min(time, 2)\n",
    "            #log += str(time)+\n",
    "            if time == 2:\n",
    "                log += 'Rc spawned\\n'\n",
    "                resource_rc_spawned = True\n",
    "                available_resources.append('Rc')\n",
    "        last_time = time\n",
    "    log += '---------\\n'\n",
    "\n",
    "    return last_time, log\n"
   ]
  },
  {
   "cell_type": "code",
   "execution_count": 40,
   "id": "83497819-46f5-4fe4-9b77-d25b6cb42166",
   "metadata": {},
   "outputs": [
    {
     "name": "stdout",
     "output_type": "stream",
     "text": [
      "[t1, t2] ['Ra', 'Rb'] {'t1': ['Ra', 'Rb'], 't2': ['Ra', 'Rc']} {(t1, 'Ra'): 3, (t1, 'Rb'): 15, (t1, 'Rd'): 21, (t2, 'Ra'): 7, (t2, 'Rc'): 7, (t2, 'Rd'): 22} {t1: 13.0, t2: 12.0} {} 0\n",
      "[t2] ['Rb', 'Rc'] {'t1': ['Ra', 'Rb'], 't2': ['Ra', 'Rc']} {(t2, 'Ra'): 7, (t2, 'Rc'): 7, (t2, 'Rd'): 22} {t1: 13.0, t2: 12.0} {'Ra': (0, 3)} 2\n",
      "[] ['Rb', 'Ra'] {'t1': ['Ra', 'Rb'], 't2': ['Ra', 'Rc']} {} {t1: 13.0, t2: 12.0} {'Rc': (2, 7)} 3\n",
      "[] ['Rb', 'Ra', 'Rc'] {'t1': ['Ra', 'Rb'], 't2': ['Ra', 'Rc']} {} {t1: 13.0, t2: 12.0} {} 9\n",
      "Delta: 1\n",
      "0\n",
      "Suggested allocation: [(t1, 'Ra')]\n",
      "Real allocation: [(t1, 'Ra')]\n",
      "[t2], ['Rb'], {(t2, 'Ra'): 7, (t2, 'Rc'): 7, (t2, 'Rd'): 22}, {'Ra': (0, 3)}\n",
      "Rc spawned\n",
      "2\n",
      "Suggested allocation: [(t2, 'Rc')]\n",
      "Real allocation: [(t2, 'Rc')]\n",
      "[], ['Rb'], {}, {'Ra': (0, 3), 'Rc': (2, 7)}\n",
      "3\n",
      "Suggested allocation: []\n",
      "Real allocation: []\n",
      "[], ['Rb', 'Ra'], {}, {'Rc': (2, 7)}\n",
      "9\n",
      "Suggested allocation: []\n",
      "Real allocation: []\n",
      "[], ['Rb', 'Ra', 'Rc'], {}, {}\n",
      "---------\n",
      "\n",
      "===========================================\n"
     ]
    }
   ],
   "source": [
    "start_time, last_time = 0, 0\n",
    "time = start_time\n",
    "for i in [1]:#np.arange(-0.1, 8, 0.001):\n",
    "    policy = HungarianMultiObjectivePolicy(1, 0, 0, i)\n",
    "    time, log = do_simulation(policy, start_time, unassigned_tasks, initial_available_resources, working_resources, trds, mean_durations, resource_pool)\n",
    "    if time != last_time:\n",
    "        print('Delta:', str(i))\n",
    "        print(log)\n",
    "        last_time = time\n",
    "        print('===========================================')"
   ]
  },
  {
   "cell_type": "code",
   "execution_count": 39,
   "id": "99430af5-435f-418e-930e-5c70e8eea1be",
   "metadata": {},
   "outputs": [
    {
     "name": "stdout",
     "output_type": "stream",
     "text": [
      "[t1, t2] ['Ra', 'Rb'] {'t1': ['Ra', 'Rb'], 't2': ['Ra', 'Rc']} {(t1, 'Ra'): 3, (t1, 'Rb'): 15, (t1, 'Rd'): 21, (t2, 'Ra'): 7, (t2, 'Rc'): 7, (t2, 'Rd'): 22} {t1: 13.0, t2: 12.0} {} 0\n",
      "[t2] ['Rb', 'Rc'] {'t1': ['Ra', 'Rb'], 't2': ['Ra', 'Rc']} {(t2, 'Ra'): 7, (t2, 'Rc'): 7, (t2, 'Rd'): 22} {t1: 13.0, t2: 12.0} {'Ra': (0, 3)} 2\n",
      "[] ['Rb', 'Ra'] {'t1': ['Ra', 'Rb'], 't2': ['Ra', 'Rc']} {} {t1: 13.0, t2: 12.0} {'Rc': (2, 7)} 3\n",
      "[] ['Rb', 'Ra', 'Rc'] {'t1': ['Ra', 'Rb'], 't2': ['Ra', 'Rc']} {} {t1: 13.0, t2: 12.0} {} 9\n",
      "Delta: 1\n",
      "{(t1, 'Ra'): 3, (t1, 'Rb'): 15, (t1, 'Rd'): 21, (t2, 'Ra'): 7, (t2, 'Rc'): 7, (t2, 'Rd'): 22}\n",
      "0\n",
      "Suggested allocation: [(t1, 'Ra'), (t2, 'Ra')]\n",
      "Real allocation: [(t1, 'Ra')]\n",
      "[t2], ['Rb'], {(t2, 'Ra'): 7, (t2, 'Rc'): 7, (t2, 'Rd'): 22}, {'Ra': (0, 3)}\n",
      "Rc spawned\n",
      "2\n",
      "Suggested allocation: [(t2, 'Rc')]\n",
      "Real allocation: [(t2, 'Rc')]\n",
      "[], ['Rb'], {}, {'Ra': (0, 3), 'Rc': (2, 7)}\n",
      "3\n",
      "Suggested allocation: []\n",
      "Real allocation: []\n",
      "[], ['Rb', 'Ra'], {}, {'Rc': (2, 7)}\n",
      "9\n",
      "Suggested allocation: []\n",
      "Real allocation: []\n",
      "[], ['Rb', 'Ra', 'Rc'], {}, {}\n",
      "---------\n",
      "\n",
      "Time:  inf\n"
     ]
    }
   ],
   "source": [
    "start_time, last_time = 0, 0\n",
    "time = start_time\n",
    "for i in [1]:\n",
    "\n",
    "    policy = UnrelatedParallelMachinesSchedulingNonAssignPolicy2(1, 0, 0, i, 'first')\n",
    "    time, log = do_simulation(policy, start_time, unassigned_tasks, initial_available_resources, working_resources, trds, mean_durations, resource_pool)\n",
    "\n",
    "    print('Delta:', str(i))\n",
    "    print(trds)\n",
    "    print(log)\n",
    "    print('Time: ', time)"
   ]
  },
  {
   "cell_type": "code",
   "execution_count": 12,
   "id": "e631b382-fda4-4c18-9b20-393c1c08e4e8",
   "metadata": {},
   "outputs": [
    {
     "name": "stdout",
     "output_type": "stream",
     "text": [
      "t1 Ra\n",
      "t2 Ra\n"
     ]
    }
   ],
   "source": [
    "for i,j in [(t1, 'Ra'), (t2, 'Ra')]:\n",
    "    print(i,j)"
   ]
  }
 ],
 "metadata": {
  "kernelspec": {
   "display_name": "Python 3 (ipykernel)",
   "language": "python",
   "name": "python3"
  },
  "language_info": {
   "codemirror_mode": {
    "name": "ipython",
    "version": 3
   },
   "file_extension": ".py",
   "mimetype": "text/x-python",
   "name": "python",
   "nbconvert_exporter": "python",
   "pygments_lexer": "ipython3",
   "version": "3.10.12"
  }
 },
 "nbformat": 4,
 "nbformat_minor": 5
}

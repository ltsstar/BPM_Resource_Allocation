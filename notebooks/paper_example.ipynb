{
 "cells": [
  {
   "cell_type": "code",
   "execution_count": 1,
   "id": "be37c823-5923-4f06-b462-5d074fef3137",
   "metadata": {},
   "outputs": [
    {
     "data": {
      "text/plain": [
       "'/home/michel/Documents/BPO_Batching/notebooks'"
      ]
     },
     "execution_count": 1,
     "metadata": {},
     "output_type": "execute_result"
    }
   ],
   "source": [
    "import sys\n",
    "import os\n",
    "\n",
    "# append the path of the parent directory\n",
    "sys.path.append(\"../src\")\n",
    "os.path.abspath(os.getcwd())"
   ]
  },
  {
   "cell_type": "code",
   "execution_count": 2,
   "id": "b4be773c-0612-4061-961f-941fd63c94ac",
   "metadata": {},
   "outputs": [],
   "source": [
    "import collections\n",
    "import numpy as np\n",
    "from ilp_policy_non_assign import *\n",
    "from hungarian_policy import *"
   ]
  },
  {
   "cell_type": "code",
   "execution_count": 3,
   "id": "fb2ffb33-e31f-4135-b4c8-e335683db30b",
   "metadata": {},
   "outputs": [],
   "source": [
    "class Task:\n",
    "    def __init__(self, name, task_type):\n",
    "        self.name = name\n",
    "        self.task_type = task_type\n",
    "\n",
    "    def __str__(self):\n",
    "        return self.name\n",
    "\n",
    "    def __repr__(self):\n",
    "        return self.name"
   ]
  },
  {
   "cell_type": "code",
   "execution_count": 4,
   "id": "15291f56-0ad1-4d7e-9455-2cca36556062",
   "metadata": {},
   "outputs": [],
   "source": [
    "t1 = Task('t1', 't1')\n",
    "t2 = Task('t2', 't2')\n",
    "t3 = Task('t3', 't3')\n",
    "\n",
    "unassigned_tasks = [t1, t2, t3]\n",
    "available_resources = ['Rb']\n",
    "working_resources = {'Ra' : (-2, 4)}\n",
    "resource_pool = {\n",
    "    't1' : ['Ra', 'Rb', 'Rc'],\n",
    "    't2' : ['Rb', 'Rc'],\n",
    "    't3' : ['Ra']\n",
    "}\n",
    "trds = {\n",
    "    (t1, 'Ra') : 7,\n",
    "    (t1, 'Rb') : 14,\n",
    "    (t1, 'Rc') : 8,\n",
    "    (t2, 'Rb') : 10,\n",
    "    (t2, 'Rc') : 15,\n",
    "    (t3, 'Ra') : 5\n",
    "}\n",
    "task_durations = collections.defaultdict(list)\n",
    "for (t, r), trd in trds.items():\n",
    "    task_durations[t].append(trd)\n",
    "mean_durations = {k: np.mean(v) for k, v in task_durations.items()}"
   ]
  },
  {
   "cell_type": "code",
   "execution_count": 5,
   "id": "03825d24-ecea-42b0-890e-1b381d662a6b",
   "metadata": {},
   "outputs": [
    {
     "name": "stdout",
     "output_type": "stream",
     "text": [
      "defaultdict(<class 'list'>, {t1: [7, 14, 8], t2: [10, 15], t3: [5]})\n",
      "{t1: 9.666666666666666, t2: 12.5, t3: 5.0}\n"
     ]
    }
   ],
   "source": [
    "print(task_durations)\n",
    "print(mean_durations)"
   ]
  },
  {
   "cell_type": "code",
   "execution_count": null,
   "id": "765ed6ff-a787-43fb-8648-400eb7b38532",
   "metadata": {},
   "outputs": [],
   "source": []
  },
  {
   "cell_type": "code",
   "execution_count": 6,
   "id": "fd53f643-34da-4773-b2cc-ef9e169e0dc9",
   "metadata": {},
   "outputs": [
    {
     "name": "stdout",
     "output_type": "stream",
     "text": [
      "[t1, t2, t3] ['Rb'] {'t1': ['Ra', 'Rb', 'Rc'], 't2': ['Rb', 'Rc'], 't3': ['Ra']} {(t1, 'Ra'): 7, (t1, 'Rb'): 14, (t1, 'Rc'): 8, (t2, 'Rb'): 10, (t2, 'Rc'): 15, (t3, 'Ra'): 5} {} {} {t1: 9.666666666666666, t2: 12.5, t3: 5.0} {'Ra': (-2, 4)} 0\n"
     ]
    }
   ],
   "source": [
    "print(unassigned_tasks, available_resources, resource_pool, trds, {}, {}, mean_durations, working_resources, 0)"
   ]
  },
  {
   "cell_type": "code",
   "execution_count": 7,
   "id": "07e91f95-6c5a-43d1-8a73-d27ddd66ac49",
   "metadata": {},
   "outputs": [],
   "source": [
    "def do_allocation(policy, unassigned_tasks, available_resources, resource_pool, trds, mean_durations, working_resources, time):\n",
    "    allocation = policy.allocate(unassigned_tasks, available_resources, resource_pool, trds, {}, {}, mean_durations, working_resources, time)\n",
    "    return allocation\n",
    "\n",
    "def add_working_resources(time, trds, allocation, available_resources, working_resources):\n",
    "    new_available_resources = available_resources.copy()\n",
    "    new_working_resources = working_resources.copy()\n",
    "    for t, r in allocation:\n",
    "        new_working_resources[r] = (time, trds[(t,r)])\n",
    "        new_available_resources.remove(r)\n",
    "    return new_available_resources, new_working_resources\n",
    "\n",
    "def remove_working_resources(time, available_resources, working_resources):\n",
    "    new_available_resources = available_resources.copy()\n",
    "    new_working_resources = working_resources.copy()\n",
    "    for r, ts in working_resources.items():\n",
    "        if sum(ts) <= time:\n",
    "            del new_working_resources[r]\n",
    "            new_available_resources.append(r)\n",
    "    return new_available_resources, new_working_resources\n",
    "\n",
    "def remove_unassigned_tasks(allocation, unassigned_tasks):\n",
    "    new_unassigned_tasks = unassigned_tasks.copy()\n",
    "    for t,r in allocation:\n",
    "        new_unassigned_tasks.remove(t)\n",
    "    return new_unassigned_tasks\n",
    "\n",
    "def remove_trds(allocation, trds):\n",
    "    new_trds = trds.copy()\n",
    "    for t,r in allocation:\n",
    "        for tt,rr in trds.keys():\n",
    "            if t==tt:\n",
    "                del new_trds[(tt,rr)]\n",
    "    return new_trds"
   ]
  },
  {
   "cell_type": "code",
   "execution_count": 8,
   "id": "b5cda50f-f190-4528-af85-1c281cccde1a",
   "metadata": {},
   "outputs": [
    {
     "data": {
      "text/plain": [
       "dict_values([(-2, 4)])"
      ]
     },
     "execution_count": 8,
     "metadata": {},
     "output_type": "execute_result"
    }
   ],
   "source": [
    "working_resources.values()"
   ]
  },
  {
   "cell_type": "code",
   "execution_count": 16,
   "id": "33a61770-e488-49d2-a1f0-283bda045860",
   "metadata": {},
   "outputs": [],
   "source": [
    "next_event = lambda working_resources : min(map(sum, working_resources.values())) if working_resources else np.inf\n",
    "\n",
    "\n",
    "def do_simulation(policy, time, unassigned_tasks, available_resources, working_resources, trds, mean_durations, resource_pool):\n",
    "    log = ''\n",
    "    unassigned_tasks = unassigned_tasks.copy()\n",
    "    available_resources = available_resources.copy()\n",
    "    working_resources = working_resources.copy()\n",
    "    trds = trds.copy()\n",
    "    \n",
    "    while len(working_resources):\n",
    "        log += str(time)+'\\n'\n",
    "        available_resources, working_resources = remove_working_resources(time, available_resources, working_resources)\n",
    "        allocation = do_allocation(policy, unassigned_tasks, available_resources, resource_pool, trds, mean_durations.copy(), working_resources, time)\n",
    "        unassigned_tasks = remove_unassigned_tasks(allocation, unassigned_tasks)\n",
    "        available_resources, working_resources = add_working_resources(time, trds, allocation, available_resources, working_resources)\n",
    "        trds = remove_trds(allocation, trds)\n",
    "        log += str(allocation)+'\\n'\n",
    "        log += ', '.join(map(str, [unassigned_tasks, available_resources, trds, working_resources]))+'\\n'\n",
    "        last_time = time\n",
    "        time = next_event(working_resources)\n",
    "    log += '---------\\n'\n",
    "\n",
    "    return last_time, log\n"
   ]
  },
  {
   "cell_type": "code",
   "execution_count": 21,
   "id": "9fac448a-00f9-47f5-823f-c973eab88506",
   "metadata": {},
   "outputs": [
    {
     "name": "stdout",
     "output_type": "stream",
     "text": [
      "No solution 0 3 2 (0, 50400)\n",
      "No solution 0 3 2 (0, 43200)\n",
      "Delta: -0.01\n",
      "0\n",
      "[]\n",
      "[t1, t2, t3], ['Rb'], {(t1, 'Ra'): 7, (t1, 'Rb'): 14, (t1, 'Rc'): 8, (t2, 'Rb'): 10, (t2, 'Rc'): 15, (t3, 'Ra'): 5}, {'Ra': (-2, 4)}\n",
      "2\n",
      "[]\n",
      "[t1, t2, t3], ['Rb', 'Ra'], {(t1, 'Ra'): 7, (t1, 'Rb'): 14, (t1, 'Rc'): 8, (t2, 'Rb'): 10, (t2, 'Rc'): 15, (t3, 'Ra'): 5}, {}\n",
      "---------\n",
      "\n",
      "===========================================\n",
      "No solution 0 3 2 (0, 50400)\n",
      "No solution 0 3 2 (0, 43200)\n",
      "No solution 0 3 2 (0, 50400)\n",
      "No solution 0 3 2 (0, 43200)\n",
      "No solution 0 3 2 (0, 50400)\n",
      "No solution 0 3 2 (0, 43200)\n",
      "No solution 0 3 2 (0, 50400)\n",
      "No solution 0 3 2 (0, 43200)\n",
      "No solution 0 3 2 (0, 50400)\n",
      "No solution 0 3 2 (0, 43200)\n",
      "No solution 0 3 2 (0, 50400)\n",
      "No solution 0 3 2 (0, 43200)\n",
      "No solution 0 3 2 (0, 50400)\n",
      "No solution 0 3 2 (0, 43200)\n",
      "No solution 0 3 2 (0, 50400)\n",
      "No solution 0 3 2 (0, 43200)\n",
      "No solution 0 3 2 (0, 50400)\n",
      "No solution 0 3 2 (0, 43200)\n",
      "Delta: 0.36099999999999965\n",
      "0\n",
      "[(t2, 'Rb')]\n",
      "[t1, t3], [], {(t1, 'Ra'): 7, (t1, 'Rb'): 14, (t1, 'Rc'): 8, (t3, 'Ra'): 5}, {'Ra': (-2, 4), 'Rb': (0, 10)}\n",
      "2\n",
      "[(t1, 'Ra')]\n",
      "[t3], [], {(t3, 'Ra'): 5}, {'Rb': (0, 10), 'Ra': (2, 7)}\n",
      "9\n",
      "[]\n",
      "[t3], ['Ra'], {(t3, 'Ra'): 5}, {'Rb': (0, 10)}\n",
      "10\n",
      "[]\n",
      "[t3], ['Ra', 'Rb'], {(t3, 'Ra'): 5}, {}\n",
      "---------\n",
      "\n",
      "===========================================\n",
      "Delta: 1.0009999999999992\n",
      "0\n",
      "[(t2, 'Rb')]\n",
      "[t1, t3], [], {(t1, 'Ra'): 7, (t1, 'Rb'): 14, (t1, 'Rc'): 8, (t3, 'Ra'): 5}, {'Ra': (-2, 4), 'Rb': (0, 10)}\n",
      "2\n",
      "[(t1, 'Ra')]\n",
      "[t3], [], {(t3, 'Ra'): 5}, {'Rb': (0, 10), 'Ra': (2, 7)}\n",
      "9\n",
      "[(t3, 'Ra')]\n",
      "[], [], {}, {'Rb': (0, 10), 'Ra': (9, 5)}\n",
      "10\n",
      "[]\n",
      "[], ['Rb'], {}, {'Ra': (9, 5)}\n",
      "14\n",
      "[]\n",
      "[], ['Rb', 'Ra'], {}, {}\n",
      "---------\n",
      "\n",
      "===========================================\n"
     ]
    }
   ],
   "source": [
    "start_time = 0\n",
    "last_time = start_time\n",
    "for i in np.arange(-0.01, 4, 0.001):\n",
    "\n",
    "    policy = UnrelatedParallelMachinesSchedulingNonAssignPolicy(1, 0, 0, i)\n",
    "    time, log = do_simulation(policy, start_time, unassigned_tasks, available_resources, working_resources, trds, mean_durations, resource_pool)\n",
    "\n",
    "    if time != last_time:\n",
    "        print('Delta:', str(i))\n",
    "        print(log)\n",
    "        last_time = time\n",
    "        print('===========================================')"
   ]
  },
  {
   "cell_type": "code",
   "execution_count": 11,
   "id": "83497819-46f5-4fe4-9b77-d25b6cb42166",
   "metadata": {},
   "outputs": [
    {
     "name": "stdout",
     "output_type": "stream",
     "text": [
      "Delta: 1.0\n",
      "===========================================\n",
      "Delta: 1.1\n",
      "===========================================\n",
      "Delta: 1.2000000000000002\n",
      "===========================================\n",
      "Delta: 1.3000000000000003\n",
      "===========================================\n",
      "Delta: 1.4000000000000004\n",
      "===========================================\n"
     ]
    }
   ],
   "source": [
    "time = 0\n",
    "for i in np.arange(1, 1.5, 0.1):\n",
    "    print('Delta:', str(i))\n",
    "    policy = HungarianMultiObjectivePolicy(1, 0, 0, i)\n",
    "    do_simulation(policy, time, unassigned_tasks, available_resources, working_resources, trds, mean_durations, resource_pool)\n",
    "    print('===========================================')"
   ]
  }
 ],
 "metadata": {
  "kernelspec": {
   "display_name": "Python 3 (ipykernel)",
   "language": "python",
   "name": "python3"
  },
  "language_info": {
   "codemirror_mode": {
    "name": "ipython",
    "version": 3
   },
   "file_extension": ".py",
   "mimetype": "text/x-python",
   "name": "python",
   "nbconvert_exporter": "python",
   "pygments_lexer": "ipython3",
   "version": "3.10.12"
  }
 },
 "nbformat": 4,
 "nbformat_minor": 5
}
